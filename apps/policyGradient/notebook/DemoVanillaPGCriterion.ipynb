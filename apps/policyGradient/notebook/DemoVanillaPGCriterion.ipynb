{
 "cells": [
  {
   "cell_type": "code",
   "execution_count": 1,
   "metadata": {
    "ExecuteTime": {
     "end_time": "2017-11-13T05:38:37.305487Z",
     "start_time": "2017-11-13T05:38:36.822409Z"
    }
   },
   "outputs": [],
   "source": [
    "#from bigdl.dataset.transformer import Sample\n",
    "from bigdl.nn.layer import *\n",
    "from bigdl.util.common import *\n",
    "from bigdl.optim.optimizer import *\n",
    "from bigdl.nn.criterion import *\n",
    "\n",
    "from rl.criterion import *\n",
    "\n",
    "init_engine()\n",
    "\n"
   ]
  },
  {
   "cell_type": "code",
   "execution_count": 2,
   "metadata": {
    "ExecuteTime": {
     "end_time": "2017-11-13T05:38:38.242526Z",
     "start_time": "2017-11-13T05:38:37.979836Z"
    }
   },
   "outputs": [
    {
     "name": "stdout",
     "output_type": "stream",
     "text": [
      "creating: createVanillaPGCriterion\n",
      "(24, 1) (24, 2)\n",
      "loss= 0.0\n",
      "gradient=\n",
      "[[ 0.        ]\n",
      " [ 0.1       ]\n",
      " [ 0.2       ]\n",
      " [ 0.2       ]\n",
      " [ 0.2       ]\n",
      " [ 0.2       ]\n",
      " [ 0.2       ]\n",
      " [ 0.2       ]\n",
      " [ 0.2       ]\n",
      " [ 0.2       ]\n",
      " [ 0.2       ]\n",
      " [-0.2       ]\n",
      " [-0.2       ]\n",
      " [-0.2       ]\n",
      " [-0.2       ]\n",
      " [-0.2       ]\n",
      " [-0.2       ]\n",
      " [-0.2       ]\n",
      " [-0.2       ]\n",
      " [-0.19999999]\n",
      " [-0.10000002]\n",
      " [ 0.        ]\n",
      " [-0.50000012]\n",
      " [ 0.        ]]\n"
     ]
    }
   ],
   "source": [
    "criterion = VanillaPGCriterion(clipping=True,clipping_range=0.2,size_average=False)\n",
    "input = np.array([[0.0],\n",
    "                  [0.1],\n",
    "                  [0.2],\n",
    "                  [0.3],\n",
    "                  [0.4],\n",
    "                  [0.5],\n",
    "                  [0.6],\n",
    "                  [0.7],\n",
    "                  [0.8],\n",
    "                  [0.9],\n",
    "                  [1.0],\n",
    "                  [0.0],\n",
    "                  [0.1],\n",
    "                  [0.2],\n",
    "                  [0.3],\n",
    "                  [0.4],\n",
    "                  [0.5],\n",
    "                  [0.6],\n",
    "                  [0.7],\n",
    "                  [0.8],\n",
    "                  [0.9],\n",
    "                  [1.0],\n",
    "                  [0.9],\n",
    "                  [1.0]\n",
    "                 ])\n",
    "target = np.array([[0,1.0],\n",
    "                   [0,1.0],\n",
    "                   [0,1.0],\n",
    "                   [0,1.0],\n",
    "                   [0,1.0],\n",
    "                   [0,1.0],\n",
    "                   [0,1.0],\n",
    "                   [0,1.0],\n",
    "                   [0,1.0],\n",
    "                   [0,1.0],\n",
    "                   [0,1.0],\n",
    "                   [1,1.0],\n",
    "                   [1,1.0],\n",
    "                   [1,1.0],\n",
    "                   [1,1.0],\n",
    "                   [1,1.0],\n",
    "                   [1,1.0],\n",
    "                   [1,1.0],\n",
    "                   [1,1.0],\n",
    "                   [1,1.0],\n",
    "                   [1,1.0],\n",
    "                   [1,1.0],\n",
    "                   [1,5.0],\n",
    "                   [1,5.0]\n",
    "                  ])\n",
    "#input = np.array([0.9])\n",
    "#target = np.array([1,2.0])\n",
    "print input.shape, target.shape\n",
    "loss = criterion.forward(input,target)\n",
    "gradient= criterion.backward(input, target)\n",
    "print \"loss=\",loss\n",
    "print \"gradient=\"\n",
    "print gradient"
   ]
  },
  {
   "cell_type": "code",
   "execution_count": 3,
   "metadata": {},
   "outputs": [
    {
     "name": "stdout",
     "output_type": "stream",
     "text": [
      "creating: createPGCriterion\n",
      "(2, 2) (2, 2)\n",
      "loss= 0.0\n",
      "gradient=\n",
      "[[-20.   20. ]\n",
      " [ 12.5 -12.5]]\n"
     ]
    }
   ],
   "source": [
    "criterion = PGCriterion(is_clip=False,clip_pos=1.2, clip_neg=0.8, size_average=False)\n",
    "input = np.array([[0.5,0.5],\n",
    "                 [0.2,0.8]\n",
    "                 ])\n",
    "target = np.array([[1,10.0],\n",
    "                   [2,10.0]\n",
    "                  ])\n",
    "print input.shape, target.shape\n",
    "loss = criterion.forward(input,target)\n",
    "gradient= criterion.backward(input, target)\n",
    "print \"loss=\",loss\n",
    "print \"gradient=\"\n",
    "print gradient"
   ]
  },
  {
   "cell_type": "code",
   "execution_count": 4,
   "metadata": {},
   "outputs": [
    {
     "name": "stdout",
     "output_type": "stream",
     "text": [
      "creating: createRFPGCriterion\n",
      "(2, 2) (2, 2)\n",
      "loss= 0.0\n",
      "gradient=\n",
      "[[  1.00030689e+01   3.06852814e-03]\n",
      " [ -6.09437795e-03  -6.24223137e+00]]\n"
     ]
    }
   ],
   "source": [
    "criterion = RFPGCriterion()\n",
    "input = np.array([[0.5,0.5],\n",
    "                 [0.2,0.8]\n",
    "                 ])\n",
    "target = np.array([[1,5.0],\n",
    "                   [2,-5.0]\n",
    "                  ])\n",
    "print input.shape, target.shape\n",
    "loss = criterion.forward(input,target)\n",
    "gradient= criterion.backward(input, target)\n",
    "print \"loss=\",loss\n",
    "print \"gradient=\"\n",
    "print gradient"
   ]
  },
  {
   "cell_type": "code",
   "execution_count": null,
   "metadata": {},
   "outputs": [],
   "source": []
  }
 ],
 "metadata": {
  "kernelspec": {
   "display_name": "Python 2",
   "language": "python",
   "name": "python2"
  },
  "language_info": {
   "codemirror_mode": {
    "name": "ipython",
    "version": 2
   },
   "file_extension": ".py",
   "mimetype": "text/x-python",
   "name": "python",
   "nbconvert_exporter": "python",
   "pygments_lexer": "ipython2",
   "version": "2.7.12"
  },
  "toc": {
   "nav_menu": {},
   "number_sections": true,
   "sideBar": true,
   "skip_h1_title": false,
   "toc_cell": false,
   "toc_position": {},
   "toc_section_display": "block",
   "toc_window_display": false
  }
 },
 "nbformat": 4,
 "nbformat_minor": 2
}
