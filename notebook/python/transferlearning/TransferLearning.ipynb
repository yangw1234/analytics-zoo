{
 "cells": [
  {
   "cell_type": "code",
   "execution_count": 1,
   "metadata": {
    "collapsed": false
   },
   "outputs": [
    {
     "name": "stdout",
     "output_type": "stream",
     "text": [
      "creating: createDefault\n",
      "creating: createSGD\n"
     ]
    }
   ],
   "source": [
    "import re\n",
    "from bigdl.util.common import *\n",
    "from pyspark.sql.functions import col, udf\n",
    "from pyspark.sql.types import DoubleType, StringType\n",
    "from bigdl.nn.layer import *\n",
    "from bigdl.nn.criterion import *\n",
    "from pyspark import SparkConf\n",
    "from pyspark.ml import Pipeline\n",
    "from pyspark.ml.evaluation import MulticlassClassificationEvaluator\n",
    "\n",
    "from zoo.common.nncontext import *\n",
    "from zoo.pipeline.nnframes.nn_classifier import *\n",
    "from zoo.pipeline.nnframes.nn_image_reader import *\n",
    "from zoo.feature.common import *\n",
    "from zoo.feature.image.imagePreprocessing import *"
   ]
  },
  {
   "cell_type": "code",
   "execution_count": 2,
   "metadata": {
    "collapsed": false
   },
   "outputs": [],
   "source": [
    "from zoo.pipeline.api.net import *"
   ]
  },
  {
   "cell_type": "code",
   "execution_count": 3,
   "metadata": {
    "collapsed": false
   },
   "outputs": [],
   "source": [
    "sparkConf = SparkConf().setAppName(\"ImageTransferLearningExample\")\n",
    "sc = get_nncontext(sparkConf)"
   ]
  },
  {
   "cell_type": "code",
   "execution_count": 4,
   "metadata": {
    "collapsed": true
   },
   "outputs": [],
   "source": [
    "image_path = \"/home/yang/sources/datasets/cat_dog/demo/*/*\""
   ]
  },
  {
   "cell_type": "code",
   "execution_count": 5,
   "metadata": {
    "collapsed": false
   },
   "outputs": [],
   "source": [
    "imageDF = NNImageReader.readImages(image_path, sc)"
   ]
  },
  {
   "cell_type": "code",
   "execution_count": 6,
   "metadata": {
    "collapsed": true
   },
   "outputs": [],
   "source": [
    "getName = udf(lambda row:\n",
    "                  re.search(r'(cat|dog)\\.([\\d]*)\\.jpg', row[0], re.IGNORECASE).group(0),\n",
    "                  StringType())\n",
    "getLabel = udf(lambda name: 1.0 if name.startswith('cat') else 2.0, DoubleType())\n",
    "labelDF = imageDF.withColumn(\"name\", getName(col(\"image\"))) \\\n",
    "        .withColumn(\"label\", getLabel(col('name')))\n",
    "(trainingDF, validationDF) = labelDF.randomSplit([0.9, 0.1])"
   ]
  },
  {
   "cell_type": "code",
   "execution_count": 7,
   "metadata": {
    "collapsed": false
   },
   "outputs": [
    {
     "name": "stdout",
     "output_type": "stream",
     "text": [
      "creating: createRowToImageFeature\n",
      "creating: createResize\n",
      "creating: createCenterCrop\n",
      "creating: createMatToTensor\n",
      "creating: createImageFeatureToTensor\n",
      "creating: createChainedPreprocessing\n"
     ]
    }
   ],
   "source": [
    "transformer = ChainedPreprocessing(\n",
    "        [RowToImageFeature(), Resize(256, 256), CenterCrop(224, 224),\n",
    "         ChannelNormalize(123.0, 117.0, 104.0), MatToTensor(), ImageFeatureToTensor()])"
   ]
  },
  {
   "cell_type": "code",
   "execution_count": 8,
   "metadata": {
    "collapsed": false
   },
   "outputs": [],
   "source": [
    "full_model = Net.loadModel(\"/home/yang/sources/model/bigdl_inception-v1_imagenet_0.4.0.model\")\n",
    "model = full_model.new_graph([\"pool5/drop_7x7_s1\"]) # create a new model by remove layers after pool5/drop_7x7_s1\n",
    "model.freeze_up_to([\"pool4/3x3_s2\"]) # freeze layers from input to pool4/3x3_s2 inclusive"
   ]
  },
  {
   "cell_type": "code",
   "execution_count": 9,
   "metadata": {
    "collapsed": false
   },
   "outputs": [
    {
     "name": "stdout",
     "output_type": "stream",
     "text": [
      "creating: createSequential\n",
      "creating: createReshape\n",
      "creating: createLinear\n",
      "creating: createLogSoftMax\n"
     ]
    }
   ],
   "source": [
    "lrModel = Sequential().add(model).add(Reshape([1024])).add(Linear(1024, 2)).add(LogSoftMax())"
   ]
  },
  {
   "cell_type": "code",
   "execution_count": 10,
   "metadata": {
    "collapsed": false
   },
   "outputs": [
    {
     "name": "stdout",
     "output_type": "stream",
     "text": [
      "creating: createClassNLLCriterion\n",
      "creating: createScalarToTensor\n",
      "creating: createFeatureLabelPreprocessing\n",
      "creating: createNNClassifier\n"
     ]
    }
   ],
   "source": [
    "classifier = NNClassifier.create(lrModel, ClassNLLCriterion(), transformer) \\\n",
    "        .setLearningRate(0.003).setBatchSize(40).setMaxEpoch(1).setFeaturesCol(\"image\")"
   ]
  },
  {
   "cell_type": "code",
   "execution_count": 11,
   "metadata": {
    "collapsed": false
   },
   "outputs": [],
   "source": [
    "pipeline = Pipeline(stages=[classifier])"
   ]
  },
  {
   "cell_type": "code",
   "execution_count": 12,
   "metadata": {
    "collapsed": false
   },
   "outputs": [
    {
     "name": "stdout",
     "output_type": "stream",
     "text": [
      "creating: createFeatureToTupleAdapter\n"
     ]
    }
   ],
   "source": [
    "catdogModel = pipeline.fit(trainingDF)"
   ]
  },
  {
   "cell_type": "code",
   "execution_count": 13,
   "metadata": {
    "collapsed": false
   },
   "outputs": [
    {
     "name": "stdout",
     "output_type": "stream",
     "text": [
      "+--------------------+-------------+-----+----------+\n",
      "|               image|         name|label|prediction|\n",
      "+--------------------+-------------+-----+----------+\n",
      "|[file:/home/yang/...|cat.10099.jpg|  1.0|       1.0|\n",
      "|[file:/home/yang/...|cat.10189.jpg|  1.0|       1.0|\n",
      "|[file:/home/yang/...|cat.10402.jpg|  1.0|       1.0|\n",
      "|[file:/home/yang/...|cat.10430.jpg|  1.0|       1.0|\n",
      "|[file:/home/yang/...| cat.1049.jpg|  1.0|       1.0|\n",
      "|[file:/home/yang/...|cat.10493.jpg|  1.0|       1.0|\n",
      "|[file:/home/yang/...|cat.10499.jpg|  1.0|       1.0|\n",
      "|[file:/home/yang/...|cat.10547.jpg|  1.0|       1.0|\n",
      "|[file:/home/yang/...|cat.10603.jpg|  1.0|       1.0|\n",
      "|[file:/home/yang/...|cat.10670.jpg|  1.0|       1.0|\n",
      "|[file:/home/yang/...|cat.10778.jpg|  1.0|       1.0|\n",
      "|[file:/home/yang/...|cat.10789.jpg|  1.0|       1.0|\n",
      "|[file:/home/yang/...|cat.10832.jpg|  1.0|       1.0|\n",
      "|[file:/home/yang/...|cat.10833.jpg|  1.0|       1.0|\n",
      "|[file:/home/yang/...| cat.1087.jpg|  1.0|       1.0|\n",
      "|[file:/home/yang/...|cat.11064.jpg|  1.0|       1.0|\n",
      "|[file:/home/yang/...|cat.11117.jpg|  1.0|       1.0|\n",
      "|[file:/home/yang/...|cat.11166.jpg|  1.0|       1.0|\n",
      "|[file:/home/yang/...|cat.11167.jpg|  1.0|       1.0|\n",
      "|[file:/home/yang/...|cat.11245.jpg|  1.0|       1.0|\n",
      "+--------------------+-------------+-----+----------+\n",
      "only showing top 20 rows\n",
      "\n"
     ]
    }
   ],
   "source": [
    "predictionDF = catdogModel.transform(validationDF).cache()\n",
    "predictionDF.show()"
   ]
  },
  {
   "cell_type": "code",
   "execution_count": 17,
   "metadata": {
    "collapsed": false
   },
   "outputs": [
    {
     "name": "stdout",
     "output_type": "stream",
     "text": [
      "accuracy is 0.991111111111\n"
     ]
    }
   ],
   "source": [
    "correct = predictionDF.filter(\"label=prediction\").count()\n",
    "overall = predictionDF.count()\n",
    "accuracy = correct * 1.0 / overall\n",
    "print \"accuracy is %s\" % accuracy"
   ]
  }
 ],
 "metadata": {
  "kernelspec": {
   "display_name": "Python 2",
   "language": "python",
   "name": "python2"
  },
  "language_info": {
   "codemirror_mode": {
    "name": "ipython",
    "version": 2
   },
   "file_extension": ".py",
   "mimetype": "text/x-python",
   "name": "python",
   "nbconvert_exporter": "python",
   "pygments_lexer": "ipython2",
   "version": "2.7.12"
  }
 },
 "nbformat": 4,
 "nbformat_minor": 2
}
